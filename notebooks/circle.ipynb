{
 "cells": [
  {
   "cell_type": "code",
   "execution_count": 1,
   "metadata": {},
   "outputs": [],
   "source": [
    "import jp_turtle as turtle"
   ]
  },
  {
   "cell_type": "code",
   "execution_count": 55,
   "metadata": {},
   "outputs": [],
   "source": [
    "def circle(t, r, frac=1, steps = None):\n",
    "    import math\n",
    "    if t.speed_move in ['normal', 1.0]:\n",
    "        t.speed(0.5)\n",
    "    if steps is None:\n",
    "        steps = int(72*frac)\n",
    "    degree = 5\n",
    "    l = 2.0 * math.pi * r/72\n",
    "    t.right(degree/2)\n",
    "    for i in range(steps):\n",
    "        t.forward(l)\n",
    "        t.right(degree)"
   ]
  },
  {
   "cell_type": "code",
   "execution_count": 57,
   "metadata": {},
   "outputs": [
    {
     "data": {
      "application/vnd.jupyter.widget-view+json": {
       "model_id": "922b7136f1c746988aaf164b77e90cb7",
       "version_major": 2,
       "version_minor": 0
      },
      "text/plain": [
       "VBox(children=(DualCanvasWidget(status='deferring flush until render'), Text(value='deferring flush until rend…"
      ]
     },
     "metadata": {},
     "output_type": "display_data"
    }
   ],
   "source": [
    "tess = turtle.Turtle()\n",
    "tess.speed(0)\n",
    "circle(tess, 100)\n",
    "turtle.reset()"
   ]
  }
 ],
 "metadata": {
  "kernelspec": {
   "display_name": "Python 3",
   "language": "python",
   "name": "python3"
  },
  "language_info": {
   "codemirror_mode": {
    "name": "ipython",
    "version": 3
   },
   "file_extension": ".py",
   "mimetype": "text/x-python",
   "name": "python",
   "nbconvert_exporter": "python",
   "pygments_lexer": "ipython3",
   "version": "3.7.0"
  }
 },
 "nbformat": 4,
 "nbformat_minor": 4
}
