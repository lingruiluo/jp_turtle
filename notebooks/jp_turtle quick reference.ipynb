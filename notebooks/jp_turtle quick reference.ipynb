{
 "cells": [
  {
   "cell_type": "markdown",
   "metadata": {},
   "source": [
    "# `jp_turtle` Quick Reference\n",
    "\n",
    "\n",
    "\n",
    "`jp_turtle` is a modified verision of turtle programming based on jupyter interface.\n",
    "\n",
    "At the first step, you can intialize turtle object by using `Turtle()`. Every time you create a new turtle object, remember to call `reset()` to set up a new screen so that it will not confuse the communication between javascript and jupyter. \n",
    "\n",
    "If you prefer other background color, you are welcome to change the color that you like by calling `screen_color(color_name)`.\n",
    "\n",
    "The information frame below the screen area displays debugging messages, which is for your convenience to know what error you are confronted with. "
   ]
  },
  {
   "cell_type": "code",
   "execution_count": 1,
   "metadata": {},
   "outputs": [],
   "source": [
    "import jp_turtle as turtle"
   ]
  },
  {
   "cell_type": "code",
   "execution_count": null,
   "metadata": {},
   "outputs": [],
   "source": [
    "tess = turtle.Turtle()"
   ]
  },
  {
   "cell_type": "code",
   "execution_count": null,
   "metadata": {},
   "outputs": [],
   "source": [
    "tess.screen_color('pink')"
   ]
  },
  {
   "cell_type": "code",
   "execution_count": null,
   "metadata": {},
   "outputs": [],
   "source": [
    "turtle.reset()"
   ]
  },
  {
   "cell_type": "markdown",
   "metadata": {},
   "source": [
    "## Baisc Function Examples\n",
    "\n",
    "Some simple examples will be shown to introduce several basic functions of `jp_turtle`.\n",
    "\n",
    "### Example 1: Draw a line\n",
    "\n",
    "Use `forward(distance)` and `backward(distance)` to draw a straight line.  \n",
    "`left(degree)` and `right(degree)` to change the move direction."
   ]
  },
  {
   "cell_type": "code",
   "execution_count": null,
   "metadata": {},
   "outputs": [],
   "source": [
    "tess = turtle.Turtle()\n",
    "tess.forward(100)\n",
    "turtle.reset()"
   ]
  },
  {
   "cell_type": "code",
   "execution_count": null,
   "metadata": {},
   "outputs": [],
   "source": [
    "tess = turtle.Turtle()\n",
    "tess.left(45)\n",
    "tess.forward(100)\n",
    "turtle.reset()"
   ]
  },
  {
   "cell_type": "markdown",
   "metadata": {},
   "source": [
    "You can also use `setheading(degrees)` to control the moving direction."
   ]
  },
  {
   "cell_type": "code",
   "execution_count": null,
   "metadata": {},
   "outputs": [],
   "source": [
    "tess = turtle.Turtle()\n",
    "tess.forward(100)\n",
    "tess.setheading(90)\n",
    "tess.forward(100)\n",
    "turtle.reset()"
   ]
  },
  {
   "cell_type": "markdown",
   "metadata": {},
   "source": [
    "If you want the turtle go to a specific location, you can use `goto()`.   \n",
    "The input can be a tuple (x,y) or two separate value for x and y repectively. "
   ]
  },
  {
   "cell_type": "code",
   "execution_count": 3,
   "metadata": {},
   "outputs": [
    {
     "data": {
      "application/vnd.jupyter.widget-view+json": {
       "model_id": "43066512831841179dfb3dea39eee668",
       "version_major": 2,
       "version_minor": 0
      },
      "text/plain": [
       "VBox(children=(DualCanvasWidget(status='deferring flush until render'), Text(value='deferring flush until rend…"
      ]
     },
     "metadata": {},
     "output_type": "display_data"
    }
   ],
   "source": [
    "tess = turtle.Turtle()\n",
    "tess.goto(140,150)\n",
    "turtle.reset()"
   ]
  },
  {
   "cell_type": "markdown",
   "metadata": {},
   "source": [
    "### Example 2: Draw a square"
   ]
  },
  {
   "cell_type": "code",
   "execution_count": null,
   "metadata": {},
   "outputs": [],
   "source": [
    "tess = turtle.Turtle()\n",
    "for i in range(4):\n",
    "    tess.right(90)\n",
    "    tess.forward(50)\n",
    "turtle.reset()"
   ]
  },
  {
   "cell_type": "markdown",
   "metadata": {},
   "source": [
    "If you would like it to be a bit faster, you can use `speed(val)` to adjust the moving speed of the icon. \n",
    "The input value can be a string or a number. The smaller a number is, the faster the icon is moving. The string can be 'fastest', 'fast', 'normal'(default speed), 'slow', and 'slowest'.\n",
    "\n",
    "**Note**: 0 value will give immediate implementation of all actions. "
   ]
  },
  {
   "cell_type": "code",
   "execution_count": null,
   "metadata": {},
   "outputs": [],
   "source": [
    "tess = turtle.Turtle()\n",
    "tess.speed('fast')\n",
    "for i in range(4):\n",
    "    tess.right(90)\n",
    "    tess.forward(50)\n",
    "turtle.reset()"
   ]
  },
  {
   "cell_type": "markdown",
   "metadata": {},
   "source": [
    "### Example 3: Draw a spiraling square"
   ]
  },
  {
   "cell_type": "code",
   "execution_count": null,
   "metadata": {},
   "outputs": [],
   "source": [
    "tess = turtle.Turtle()\n",
    "tess.speed('fast')\n",
    "for i in range(20):\n",
    "    tess.right(90)\n",
    "    tess.forward(i*10)\n",
    "turtle.reset()"
   ]
  },
  {
   "cell_type": "markdown",
   "metadata": {},
   "source": [
    "### Example 3: Draw a polygon"
   ]
  },
  {
   "cell_type": "code",
   "execution_count": null,
   "metadata": {},
   "outputs": [],
   "source": [
    "tess = turtle.Turtle()\n",
    "tess.speed('fast')\n",
    "for i in range(6):\n",
    "    tess.right(60)\n",
    "    tess.forward(50)\n",
    "turtle.reset()"
   ]
  },
  {
   "cell_type": "markdown",
   "metadata": {},
   "source": [
    "### Example 4:  turtle stamp\n",
    "\n",
    "Call `stamp()` to mark the position of the turtle.\n",
    "Clear the most recent stamp, use `clearstamp()` without any input.   \n",
    "Also, you can input the stamp id to clear the one you want to delete. If you want to delete all stamps, call `clearstamps()` without input. "
   ]
  },
  {
   "cell_type": "code",
   "execution_count": null,
   "metadata": {},
   "outputs": [],
   "source": [
    "tess = turtle.Turtle()\n",
    "for i in range(6):\n",
    "    tess.right(60)\n",
    "    tess.stamp()\n",
    "    tess.forward(50)\n",
    "turtle.reset()"
   ]
  },
  {
   "cell_type": "code",
   "execution_count": null,
   "metadata": {},
   "outputs": [],
   "source": [
    "# clear stamps with id of 4\n",
    "tess.clearstamp(4)"
   ]
  },
  {
   "cell_type": "code",
   "execution_count": null,
   "metadata": {},
   "outputs": [],
   "source": [
    "# clear first two stamps\n",
    "tess.clearstamps(2)"
   ]
  },
  {
   "cell_type": "code",
   "execution_count": null,
   "metadata": {},
   "outputs": [],
   "source": [
    "# clear last two stamps\n",
    "tess.clearstamps(-2)"
   ]
  },
  {
   "cell_type": "code",
   "execution_count": null,
   "metadata": {},
   "outputs": [],
   "source": [
    "# clear all stamps\n",
    "tess.clearstamps()"
   ]
  },
  {
   "cell_type": "markdown",
   "metadata": {},
   "source": [
    "### Dot\n",
    "\n",
    "`dot(size=None, *color)` is similar to the stamp function, however, it marks a circle at the currect position instead of the shape of icon. \n",
    "`clear_dot()` is used to clear all dots."
   ]
  },
  {
   "cell_type": "code",
   "execution_count": null,
   "metadata": {},
   "outputs": [],
   "source": [
    "tess = turtle.Turtle()\n",
    "initial_distance = 20\n",
    "tess.speed('fastest')\n",
    "for i in range(10):\n",
    "    for j in range(5):\n",
    "        tess.dot(size=2,color='red')\n",
    "        tess.forward(initial_distance)\n",
    "        tess.right(144)\n",
    "    initial_distance += 20\n",
    "turtle.reset()"
   ]
  },
  {
   "cell_type": "code",
   "execution_count": null,
   "metadata": {},
   "outputs": [],
   "source": [
    "tess.clear_dot()"
   ]
  },
  {
   "cell_type": "markdown",
   "metadata": {},
   "source": [
    "## Turtle Icon\n",
    "\n",
    "### Change the shape of the turtle"
   ]
  },
  {
   "cell_type": "code",
   "execution_count": null,
   "metadata": {},
   "outputs": [],
   "source": [
    "tess = turtle.Turtle()\n",
    "tess.shape(\"turtle\")"
   ]
  },
  {
   "cell_type": "markdown",
   "metadata": {},
   "source": [
    "### Change the color of the turtle\n",
    "\n",
    "The color of the turtle (icon) is also the color of the pen. \n",
    "When you call `color(col)`, it also changes the pen color."
   ]
  },
  {
   "cell_type": "code",
   "execution_count": null,
   "metadata": {},
   "outputs": [],
   "source": [
    "tess.color(\"red\")"
   ]
  },
  {
   "cell_type": "markdown",
   "metadata": {},
   "source": [
    "### The size of the icon and the pen\n",
    "\n",
    "If you would like to change the size of drawing line, you can call out `pensize(size)` function. In this way, the size of the icon will also be changed. "
   ]
  },
  {
   "cell_type": "code",
   "execution_count": null,
   "metadata": {},
   "outputs": [],
   "source": [
    "tess.pensize(3)\n",
    "tess.forward(100)\n",
    "turtle.reset()"
   ]
  },
  {
   "cell_type": "markdown",
   "metadata": {},
   "source": [
    "### Hide or show turtle icon"
   ]
  },
  {
   "cell_type": "code",
   "execution_count": null,
   "metadata": {},
   "outputs": [],
   "source": [
    "tess.hideturtle()"
   ]
  },
  {
   "cell_type": "code",
   "execution_count": null,
   "metadata": {},
   "outputs": [],
   "source": [
    "tess.showturtle()"
   ]
  },
  {
   "cell_type": "markdown",
   "metadata": {},
   "source": [
    "## Draw options\n",
    "\n",
    "Besides the pensize option, you can also move the turtle without drawing any line by using `up()`.  \n",
    "Also, you can call `down()` to get the line back."
   ]
  },
  {
   "cell_type": "code",
   "execution_count": 4,
   "metadata": {},
   "outputs": [
    {
     "data": {
      "application/vnd.jupyter.widget-view+json": {
       "model_id": "ca11d2851a9740f3bced21f5d0f05230",
       "version_major": 2,
       "version_minor": 0
      },
      "text/plain": [
       "VBox(children=(DualCanvasWidget(status='deferring flush until render'), Text(value='deferring flush until rend…"
      ]
     },
     "metadata": {},
     "output_type": "display_data"
    }
   ],
   "source": [
    "tess = turtle.Turtle()\n",
    "initial_distance = 10\n",
    "tess.screen_color('black')\n",
    "tess.speed('fastest')\n",
    "tess.color('white')\n",
    "for i in range(10):\n",
    "    for j in range(5):\n",
    "        tess.up()\n",
    "        if j in [1,2,3]:\n",
    "            tess.down()\n",
    "        tess.dot(3,'red')\n",
    "        tess.forward(initial_distance)\n",
    "        tess.right(144)\n",
    "    initial_distance += 20\n",
    "turtle.reset()"
   ]
  },
  {
   "cell_type": "markdown",
   "metadata": {},
   "source": [
    "### Clear options\n",
    "\n",
    "Every time you create a new object, a screen will be displayed below. If you just want to clear the lines or dots, you can use `clear()` function. In this way, you can redraw without creating a new object."
   ]
  },
  {
   "cell_type": "code",
   "execution_count": 5,
   "metadata": {},
   "outputs": [],
   "source": [
    "tess.clear()"
   ]
  },
  {
   "cell_type": "markdown",
   "metadata": {},
   "source": [
    "## Click event\n",
    "\n",
    "`jp_turtle` gives you the option to control turtle's moving by clicking the screen."
   ]
  },
  {
   "cell_type": "code",
   "execution_count": 13,
   "metadata": {},
   "outputs": [
    {
     "data": {
      "application/vnd.jupyter.widget-view+json": {
       "model_id": "43542911bd4a4eb0a0ad4cc14eb0ef5a",
       "version_major": 2,
       "version_minor": 0
      },
      "text/plain": [
       "VBox(children=(DualCanvasWidget(status='deferring flush until render'), Text(value='deferring flush until rend…"
      ]
     },
     "metadata": {},
     "output_type": "display_data"
    }
   ],
   "source": [
    "tess = turtle.Turtle()\n",
    "turtle.reset()"
   ]
  },
  {
   "cell_type": "markdown",
   "metadata": {},
   "source": [
    "## Other functions\n",
    "\n",
    "There are some other functions that may help you program."
   ]
  },
  {
   "cell_type": "code",
   "execution_count": 8,
   "metadata": {},
   "outputs": [
    {
     "data": {
      "application/vnd.jupyter.widget-view+json": {
       "model_id": "75c75a756f7649a88d8004f8a5bd3690",
       "version_major": 2,
       "version_minor": 0
      },
      "text/plain": [
       "VBox(children=(DualCanvasWidget(status='deferring flush until render'), Text(value='deferring flush until rend…"
      ]
     },
     "metadata": {},
     "output_type": "display_data"
    }
   ],
   "source": [
    "tess = turtle.Turtle()\n",
    "tess.forward(100)\n",
    "tess.goto(30,80)\n",
    "turtle.reset()"
   ]
  },
  {
   "cell_type": "code",
   "execution_count": 9,
   "metadata": {},
   "outputs": [
    {
     "data": {
      "text/plain": [
       "131.18592516570965"
      ]
     },
     "execution_count": 9,
     "metadata": {},
     "output_type": "execute_result"
    }
   ],
   "source": [
    "# know the heading direction of the turtle\n",
    "tess.heading()"
   ]
  },
  {
   "cell_type": "code",
   "execution_count": 11,
   "metadata": {},
   "outputs": [
    {
     "data": {
      "text/plain": [
       "(30, 80)"
      ]
     },
     "execution_count": 11,
     "metadata": {},
     "output_type": "execute_result"
    }
   ],
   "source": [
    "# know the current position of the turtle\n",
    "tess.position()"
   ]
  },
  {
   "cell_type": "code",
   "execution_count": 10,
   "metadata": {},
   "outputs": [
    {
     "data": {
      "text/plain": [
       "30.0"
      ]
     },
     "execution_count": 10,
     "metadata": {},
     "output_type": "execute_result"
    }
   ],
   "source": [
    "# know the distance from the current position to a specific position\n",
    "tess.distance(30,50)"
   ]
  },
  {
   "cell_type": "code",
   "execution_count": 12,
   "metadata": {},
   "outputs": [],
   "source": [
    "# go back to the original starting point and original heading direction\n",
    "tess.home()"
   ]
  }
 ],
 "metadata": {
  "kernelspec": {
   "display_name": "Python 3",
   "language": "python",
   "name": "python3"
  },
  "language_info": {
   "codemirror_mode": {
    "name": "ipython",
    "version": 3
   },
   "file_extension": ".py",
   "mimetype": "text/x-python",
   "name": "python",
   "nbconvert_exporter": "python",
   "pygments_lexer": "ipython3",
   "version": "3.7.0"
  }
 },
 "nbformat": 4,
 "nbformat_minor": 4
}
