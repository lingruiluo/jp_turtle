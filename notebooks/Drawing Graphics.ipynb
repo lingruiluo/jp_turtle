{
 "cells": [
  {
   "cell_type": "markdown",
   "metadata": {},
   "source": [
    "# Drawing Graphics\n",
    "\n",
    "The examples is adapted from https://fiftyexamples.readthedocs.io/en/latest/turtle.html"
   ]
  },
  {
   "cell_type": "code",
   "execution_count": 4,
   "metadata": {},
   "outputs": [
    {
     "data": {
      "application/vnd.jupyter.widget-view+json": {
       "model_id": "bb98e06bfacb49a9879dd6030fed91f5",
       "version_major": 2,
       "version_minor": 0
      },
      "text/plain": [
       "VBox(children=(DualCanvasWidget(status='deferring flush until render'), Text(value='deferring flush until rend…"
      ]
     },
     "metadata": {},
     "output_type": "display_data"
    }
   ],
   "source": [
    "import sys\n",
    "import jp_turtle as turtle\n",
    "\n",
    "def border(t, screen_x, screen_y):\n",
    "    \"\"\"(Turtle, int, int)\n",
    "\n",
    "    Draws a border around the canvas in red.\n",
    "    \"\"\"\n",
    "    # Lift the pen and move the turtle to the center.\n",
    "    t.up()\n",
    "    t.home()\n",
    "\n",
    "    # Move to lower left corner of the screen; leaves the turtle\n",
    "    # facing west.\n",
    "    t.forward(screen_x / 2)\n",
    "    t.right(90)\n",
    "    t.forward(screen_y / 2)\n",
    "    t.setheading(180)           # t.right(90) would also work.\n",
    "    # Draw the border\n",
    "    t.color('white')\n",
    "    t.down()\n",
    "    t.pensize(8)\n",
    "    for distance in (screen_x, screen_y, screen_x, screen_y):\n",
    "        t.forward(distance)\n",
    "        t.right(90)\n",
    "\n",
    "    # Raise the pen and move the turtle home again; it's a good idea\n",
    "    # to leave the turtle in a known state.\n",
    "    t.up()\n",
    "    t.home()\n",
    "\n",
    "def square(t, size, color):\n",
    "    \"\"\"(Turtle, int, str)\n",
    "\n",
    "    Draw a square of the chosen colour and size.\n",
    "    \"\"\"\n",
    "    t.color(color)\n",
    "    t.down()\n",
    "    for i in range(4):\n",
    "        t.forward(size)\n",
    "        t.right(90)\n",
    "\n",
    "def repeat_square(t, colors):\n",
    "    for i, color in enumerate(colors):\n",
    "        t.pensize((i+1)*1.1)\n",
    "        square(t, (200 / 2) / 10 * (i+1), color)\n",
    "        \n",
    "def main():\n",
    "    # Create screen and turtle.\n",
    "    t = turtle.Turtle()\n",
    "    t.shape('turtle')\n",
    "    t.screen_color('black')\n",
    "    # Uncomment to draw the graphics as quickly as possible.\n",
    "    t.speed(0.1)\n",
    "\n",
    "    # Draw a border around the canvas\n",
    "    border(t, 400, 400)\n",
    "\n",
    "    # Draw a set of nested squares, varying the color.\n",
    "    # The squares are 10%, 20%, etc. of half the size of the canvas.\n",
    "    colors = ['red', 'orange', 'yellow', 'green', 'blue', 'indigo', 'violet']\n",
    "    for i in range(4):\n",
    "        t.setheading(90*i)\n",
    "        repeat_square(t, colors)\n",
    "        t.home()\n",
    "\n",
    "main()\n",
    "turtle.reset()"
   ]
  }
 ],
 "metadata": {
  "kernelspec": {
   "display_name": "Python 3",
   "language": "python",
   "name": "python3"
  },
  "language_info": {
   "codemirror_mode": {
    "name": "ipython",
    "version": 3
   },
   "file_extension": ".py",
   "mimetype": "text/x-python",
   "name": "python",
   "nbconvert_exporter": "python",
   "pygments_lexer": "ipython3",
   "version": "3.7.0"
  }
 },
 "nbformat": 4,
 "nbformat_minor": 4
}
