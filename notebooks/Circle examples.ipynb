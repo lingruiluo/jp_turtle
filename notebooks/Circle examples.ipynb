{
 "cells": [
  {
   "cell_type": "markdown",
   "metadata": {},
   "source": [
    "# Circle examples\n",
    "\n",
    "`jp_turtle` does not have circle function to draw a circle, however, we can define one here. "
   ]
  },
  {
   "cell_type": "code",
   "execution_count": 1,
   "metadata": {},
   "outputs": [],
   "source": [
    "import jp_turtle as turtle"
   ]
  },
  {
   "cell_type": "code",
   "execution_count": 16,
   "metadata": {},
   "outputs": [],
   "source": [
    "def circle(t, r, frac=1, steps = None):\n",
    "    import math\n",
    "    if steps is None:\n",
    "        steps = int(72*frac)\n",
    "    degree = 5\n",
    "    l = 2.0 * math.pi * r/72\n",
    "    t.right(degree/2)\n",
    "    for i in range(steps):\n",
    "        t.forward(l)\n",
    "        t.right(degree)\n",
    "    t.right(-degree/2)"
   ]
  },
  {
   "cell_type": "code",
   "execution_count": null,
   "metadata": {},
   "outputs": [],
   "source": [
    "tess = turtle.Turtle()\n",
    "tess.speed(0)\n",
    "circle(tess, 100)\n",
    "turtle.reset()"
   ]
  },
  {
   "cell_type": "markdown",
   "metadata": {},
   "source": [
    "## Spiral Circle"
   ]
  },
  {
   "cell_type": "code",
   "execution_count": 7,
   "metadata": {},
   "outputs": [
    {
     "data": {
      "application/vnd.jupyter.widget-view+json": {
       "model_id": "9762ee45687a4bb094501960f881d164",
       "version_major": 2,
       "version_minor": 0
      },
      "text/plain": [
       "VBox(children=(DualCanvasWidget(status='deferring flush until render'), Text(value='deferring flush until rend…"
      ]
     },
     "metadata": {},
     "output_type": "display_data"
    }
   ],
   "source": [
    "tess = turtle.Turtle()\n",
    "tess.speed(0)\n",
    "r = 10\n",
    "for i in range(100):\n",
    "    circle(tess,r+i,45/360)\n",
    "turtle.reset()"
   ]
  },
  {
   "cell_type": "markdown",
   "metadata": {},
   "source": [
    "## Concentric Circle"
   ]
  },
  {
   "cell_type": "code",
   "execution_count": 7,
   "metadata": {},
   "outputs": [
    {
     "data": {
      "application/vnd.jupyter.widget-view+json": {
       "model_id": "b6feea23e5fc48148a228e8381fbe800",
       "version_major": 2,
       "version_minor": 0
      },
      "text/plain": [
       "VBox(children=(DualCanvasWidget(status='deferring flush until render'), Text(value='deferring flush until rend…"
      ]
     },
     "metadata": {},
     "output_type": "display_data"
    }
   ],
   "source": [
    "tess = turtle.Turtle()\n",
    "tess.speed(0.1)\n",
    "r = 10\n",
    "for i in range(1,6):\n",
    "    tess.setheading(90)\n",
    "    tess.up()\n",
    "    tess.forward(r)\n",
    "    tess.setheading(0)\n",
    "    tess.down()\n",
    "    circle(tess,r*i)\n",
    "turtle.reset()"
   ]
  },
  {
   "cell_type": "markdown",
   "metadata": {},
   "source": [
    "## dss"
   ]
  },
  {
   "cell_type": "code",
   "execution_count": 28,
   "metadata": {},
   "outputs": [
    {
     "data": {
      "application/vnd.jupyter.widget-view+json": {
       "model_id": "6c5ad972c97640f2b37dfc9d9e4f5912",
       "version_major": 2,
       "version_minor": 0
      },
      "text/plain": [
       "VBox(children=(DualCanvasWidget(status='deferring flush until render'), Text(value='deferring flush until rend…"
      ]
     },
     "metadata": {},
     "output_type": "display_data"
    }
   ],
   "source": [
    "tess = turtle.Turtle()\n",
    "tess.screen_color('black')\n",
    "tess.speed(0)\n",
    "tess.pensize(3)\n",
    "r = 80\n",
    "colors = [['#678CE0','#6770E1','#7A67E2'],\n",
    "          ['#67E482','#7BE568','#AAE768'],\n",
    "          ['#854450','#982D41','#AB1632'],\n",
    "          ['#CCCE00','#CA8F00','#C65100'],\n",
    "          ['#7D00CE','#B800CA','#C6009C'],\n",
    "          ['#F5EFC1','#F4E76F','#F5DF1E'],\n",
    "          ['#72BDBD','#32BCBD','#3F6868'],\n",
    "          ['#00C8E1','#0082DD','#003FD9']]\n",
    "for i in range(8):\n",
    "    for j in range(3):\n",
    "        tess.color(colors[i][j])\n",
    "        circle(tess,r+6*j)\n",
    "    tess.left(360/8)\n",
    "turtle.reset()"
   ]
  }
 ],
 "metadata": {
  "kernelspec": {
   "display_name": "Python 3",
   "language": "python",
   "name": "python3"
  },
  "language_info": {
   "codemirror_mode": {
    "name": "ipython",
    "version": 3
   },
   "file_extension": ".py",
   "mimetype": "text/x-python",
   "name": "python",
   "nbconvert_exporter": "python",
   "pygments_lexer": "ipython3",
   "version": "3.7.0"
  }
 },
 "nbformat": 4,
 "nbformat_minor": 4
}
