{
 "cells": [
  {
   "cell_type": "markdown",
   "metadata": {},
   "source": [
    "# Nautilus\n",
    "\n",
    "This example refers to https://github.com/jxxcarlson/PyExamples/blob/master/nautilus.py"
   ]
  },
  {
   "cell_type": "code",
   "execution_count": 1,
   "metadata": {},
   "outputs": [
    {
     "data": {
      "application/vnd.jupyter.widget-view+json": {
       "model_id": "7954d111a9604178a2789043bcf1b561",
       "version_major": 2,
       "version_minor": 0
      },
      "text/plain": [
       "VBox(children=(DualCanvasWidget(status='deferring flush until render'), Text(value='deferring flush until rend…"
      ]
     },
     "metadata": {},
     "output_type": "display_data"
    }
   ],
   "source": [
    "def square(T, S):\n",
    "  \"\"\"With turtle T,draw a square of size S.\"\"\"\n",
    "  for k in range(0,4):\n",
    "    T.forward(S)\n",
    "    T.left(90)\n",
    "\n",
    "def repeat(T, f, N, A, S, k):\n",
    "  \"\"\"With turtle T, draw a figure of size S using function f N times, \n",
    "  each time rotating the figure with respect to the previous one \n",
    "  by an angle A and rescaling the figure by a factor k\"\"\"\n",
    "  for j in range(0, N):\n",
    "    f(T, S)\n",
    "    T.left(A)\n",
    "    S = k*S\n",
    "\n",
    "from jp_turtle import *\n",
    "# from utilities import saveImage\n",
    "t = Turtle()\n",
    "t.shape('turtle')\n",
    "t.screen_color('black')\n",
    "t.color('white')\n",
    "t.speed(\"fastest\")     \n",
    "repeat(t, square, 108, 10, 100, 0.97)\n",
    "t.reset()"
   ]
  }
 ],
 "metadata": {
  "kernelspec": {
   "display_name": "Python 3",
   "language": "python",
   "name": "python3"
  },
  "language_info": {
   "codemirror_mode": {
    "name": "ipython",
    "version": 3
   },
   "file_extension": ".py",
   "mimetype": "text/x-python",
   "name": "python",
   "nbconvert_exporter": "python",
   "pygments_lexer": "ipython3",
   "version": "3.7.0"
  }
 },
 "nbformat": 4,
 "nbformat_minor": 4
}
