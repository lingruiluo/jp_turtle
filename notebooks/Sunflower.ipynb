{
 "cells": [
  {
   "cell_type": "markdown",
   "metadata": {},
   "source": [
    "# Sunflower\n",
    "\n",
    "The example draw a sunflower using `jp_turtle` by two steps: drawing centre and petals. "
   ]
  },
  {
   "cell_type": "code",
   "execution_count": 1,
   "metadata": {},
   "outputs": [],
   "source": [
    "import jp_turtle as turtle"
   ]
  },
  {
   "cell_type": "code",
   "execution_count": 51,
   "metadata": {},
   "outputs": [],
   "source": [
    "def centre(t):\n",
    "    import math\n",
    "    t.color('#666600')\n",
    "    t.stamp()\n",
    "    t.up()\n",
    "    r = 15\n",
    "    for i in range(1,5):\n",
    "        l = 2*math.pi*r\n",
    "        n = int(l/15)\n",
    "        k = int(360/n)\n",
    "        if i == 2:\n",
    "            t.color('#4e4e00')\n",
    "        if i == 4:\n",
    "            t.color('orange')\n",
    "        for j in range(1,n+1):\n",
    "            t.forward(r)\n",
    "            t.stamp()\n",
    "            t.home()\n",
    "            t.setheading(360/n*j)\n",
    "        r += 18\n",
    "\n",
    "def rho(t):\n",
    "    t.begin_fill()\n",
    "    t.fillcolor('yellow')\n",
    "    t.left(30)\n",
    "    t.forward(50)\n",
    "    t.right(60)\n",
    "    t.forward(50)\n",
    "    t.right(120)\n",
    "    t.forward(50)\n",
    "    t.right(60)\n",
    "    t.forward(50)\n",
    "    t.end_fill()\n",
    "\n",
    "def petal(t, dense=50):\n",
    "    r = 100\n",
    "    t.color('orange')\n",
    "    for i in range(1,dense):\n",
    "        theta = 15*i\n",
    "        x = r*math.cos(theta)\n",
    "        y = r*math.sin(theta)\n",
    "        t.up()\n",
    "        t.goto(x,y)\n",
    "        t.down()\n",
    "        rho(t)\n",
    "        t.up()\n",
    "        t.home()"
   ]
  },
  {
   "cell_type": "code",
   "execution_count": 54,
   "metadata": {},
   "outputs": [
    {
     "data": {
      "application/vnd.jupyter.widget-view+json": {
       "model_id": "1f5f393f9b2a439d899dad38914a180a",
       "version_major": 2,
       "version_minor": 0
      },
      "text/plain": [
       "VBox(children=(DualCanvasWidget(status='deferring flush until render'), Text(value='deferring flush until rend…"
      ]
     },
     "metadata": {},
     "output_type": "display_data"
    }
   ],
   "source": [
    "t = turtle.Turtle()\n",
    "t.shape('turtle')\n",
    "t.screen_color('#D8F7F9')\n",
    "t.speed(0)\n",
    "centre(t)\n",
    "petal(t)\n",
    "turtle.reset()"
   ]
  }
 ],
 "metadata": {
  "kernelspec": {
   "display_name": "Python 3",
   "language": "python",
   "name": "python3"
  },
  "language_info": {
   "codemirror_mode": {
    "name": "ipython",
    "version": 3
   },
   "file_extension": ".py",
   "mimetype": "text/x-python",
   "name": "python",
   "nbconvert_exporter": "python",
   "pygments_lexer": "ipython3",
   "version": "3.7.0"
  }
 },
 "nbformat": 4,
 "nbformat_minor": 4
}
