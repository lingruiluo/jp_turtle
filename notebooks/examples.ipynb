{
 "cells": [
  {
   "cell_type": "code",
   "execution_count": 1,
   "metadata": {},
   "outputs": [],
   "source": [
    "import turtle_1 as d_turtle"
   ]
  },
  {
   "cell_type": "markdown",
   "metadata": {},
   "source": [
    "___________________"
   ]
  },
  {
   "cell_type": "markdown",
   "metadata": {},
   "source": [
    "https://michael0x2a.com/blog/turtle-examples\n",
    "\n",
    "# Example 1: Draw a line"
   ]
  },
  {
   "cell_type": "code",
   "execution_count": null,
   "metadata": {},
   "outputs": [],
   "source": [
    "e1 = d_turtle.Turtle()"
   ]
  },
  {
   "cell_type": "code",
   "execution_count": null,
   "metadata": {},
   "outputs": [],
   "source": [
    "e1.forward(50)\n",
    "d_turtle.reset()"
   ]
  },
  {
   "cell_type": "markdown",
   "metadata": {},
   "source": [
    "# Example 2: Drawing a square"
   ]
  },
  {
   "cell_type": "code",
   "execution_count": null,
   "metadata": {},
   "outputs": [],
   "source": [
    "e2 = d_turtle.Turtle()"
   ]
  },
  {
   "cell_type": "code",
   "execution_count": null,
   "metadata": {},
   "outputs": [],
   "source": [
    "e2.forward(50)\n",
    "e2.right(90)\n",
    "\n",
    "e2.forward(50)\n",
    "e2.right(90)\n",
    "\n",
    "e2.forward(50)\n",
    "e2.right(90)\n",
    "\n",
    "e2.forward(50)\n",
    "e2.right(90)"
   ]
  },
  {
   "cell_type": "code",
   "execution_count": null,
   "metadata": {},
   "outputs": [],
   "source": [
    "d_turtle.reset()"
   ]
  },
  {
   "cell_type": "markdown",
   "metadata": {},
   "source": [
    "# Example 3: Drawing a square (using loops)"
   ]
  },
  {
   "cell_type": "code",
   "execution_count": null,
   "metadata": {},
   "outputs": [],
   "source": [
    "e3 = d_turtle.Turtle()"
   ]
  },
  {
   "cell_type": "code",
   "execution_count": null,
   "metadata": {},
   "outputs": [],
   "source": [
    "for i in range(4):\n",
    "    e3.forward(50)\n",
    "    e3.right(90)\n",
    "d_turtle.reset()"
   ]
  },
  {
   "cell_type": "markdown",
   "metadata": {},
   "source": [
    "# Example 4: Drawing a star"
   ]
  },
  {
   "cell_type": "code",
   "execution_count": null,
   "metadata": {},
   "outputs": [],
   "source": [
    "e4 = d_turtle.Turtle()\n",
    "for i in range(5):\n",
    "    e4.forward(50)\n",
    "    e4.right(144)\n",
    "d_turtle.reset()"
   ]
  },
  {
   "cell_type": "markdown",
   "metadata": {},
   "source": [
    "# Example 5: Spiraling star"
   ]
  },
  {
   "cell_type": "code",
   "execution_count": null,
   "metadata": {},
   "outputs": [],
   "source": [
    "e5 = d_turtle.Turtle()\n",
    "for i in range(20):\n",
    "    e5.forward(i*10)\n",
    "    e5.right(144)\n",
    "d_turtle.reset()"
   ]
  },
  {
   "cell_type": "markdown",
   "metadata": {},
   "source": [
    "# Example 6: Changing line color"
   ]
  },
  {
   "cell_type": "code",
   "execution_count": null,
   "metadata": {},
   "outputs": [],
   "source": [
    "e6 = d_turtle.Turtle()\n",
    "e6.color('blue')\n",
    "for i in range(40):\n",
    "    e6.forward(50)\n",
    "    e6.left(123)\n",
    "\n",
    "e6.color(\"red\")\n",
    "for i in range(40):\n",
    "    e6.forward(100)\n",
    "    e6.left(123)\n",
    "    \n",
    "d_turtle.reset()"
   ]
  },
  {
   "cell_type": "code",
   "execution_count": null,
   "metadata": {},
   "outputs": [],
   "source": [
    "painter2 = d_turtle.Turtle()\n",
    "painter2.color(\"#32D486\")\n",
    "painter2.forward(30)\n",
    "painter2.color(\"#D6305F\")\n",
    "painter2.forward(30)\n",
    "d_turtle.reset()"
   ]
  },
  {
   "cell_type": "markdown",
   "metadata": {},
   "source": [
    "# Example 7: Variables"
   ]
  },
  {
   "cell_type": "code",
   "execution_count": null,
   "metadata": {},
   "outputs": [],
   "source": [
    "e7 = d_turtle.Turtle()\n",
    "\n",
    "num_sides = 6\n",
    "side_length = 70\n",
    "angle = 360.0 / num_sides \n",
    "\n",
    "for i in range(num_sides):\n",
    "    e7.forward(side_length)\n",
    "    e7.right(angle)\n",
    "\n",
    "d_turtle.reset()"
   ]
  },
  {
   "cell_type": "markdown",
   "metadata": {},
   "source": [
    "# Example 8: Nested loops"
   ]
  },
  {
   "cell_type": "code",
   "execution_count": 2,
   "metadata": {},
   "outputs": [
    {
     "data": {
      "application/vnd.jupyter.widget-view+json": {
       "model_id": "1911ff568ff743df89964740d1c3e22a",
       "version_major": 2,
       "version_minor": 0
      },
      "text/plain": [
       "VBox(children=(DualCanvasWidget(status='deferring flush until render'), Text(value='deferring flush until rend…"
      ]
     },
     "metadata": {},
     "output_type": "display_data"
    }
   ],
   "source": [
    "e8 = d_turtle.Turtle()\n",
    "dot_distance = 25\n",
    "width = 5\n",
    "height = 7\n",
    "e8.up()\n",
    "\n",
    "for y in range(height):\n",
    "    for i in range(width):\n",
    "        e8.dot()\n",
    "        e8.forward(dot_distance)\n",
    "    e8.backward(dot_distance * width)\n",
    "    e8.right(90)\n",
    "    e8.forward(dot_distance)\n",
    "    e8.left(90)\n",
    "    \n",
    "d_turtle.reset()"
   ]
  },
  {
   "cell_type": "markdown",
   "metadata": {},
   "source": [
    "# Example 9: Jumping around and changing speed"
   ]
  },
  {
   "cell_type": "code",
   "execution_count": null,
   "metadata": {},
   "outputs": [],
   "source": [
    "e9 = d_turtle.Turtle()\n",
    "\n",
    "e9.speed(0.1)\n",
    "for i in range(180):\n",
    "    e9.forward(100)\n",
    "    e9.right(30)\n",
    "    e9.forward(20)\n",
    "    e9.left(60)\n",
    "    e9.forward(50)\n",
    "    e9.up()\n",
    "    e9.goto(0, 0)\n",
    "    e9.down()\n",
    "    \n",
    "    e9.right(2)\n",
    "    \n",
    "d_turtle.reset()\n",
    "\n",
    "\"\"\"\n",
    "bugs: \n",
    "2. some lines are not supposed to be drawn and some lines are supposed to be drawn.\n",
    "\"\"\""
   ]
  },
  {
   "cell_type": "markdown",
   "metadata": {},
   "source": [
    "________"
   ]
  },
  {
   "cell_type": "markdown",
   "metadata": {},
   "source": [
    "# Drawing Graphics\n",
    "\n",
    "https://fiftyexamples.readthedocs.io/en/latest/turtle.html"
   ]
  },
  {
   "cell_type": "code",
   "execution_count": null,
   "metadata": {},
   "outputs": [],
   "source": [
    "import sys\n",
    "import d_turtle\n",
    "\n",
    "def border(t, screen_x, screen_y):\n",
    "    \"\"\"(Turtle, int, int)\n",
    "\n",
    "    Draws a border around the canvas in red.\n",
    "    \"\"\"\n",
    "    # Lift the pen and move the turtle to the center.\n",
    "    t.up()\n",
    "    t.home()\n",
    "\n",
    "    # Move to lower left corner of the screen; leaves the turtle\n",
    "    # facing west.\n",
    "    t.forward(screen_x / 2)\n",
    "    t.right(90)\n",
    "    t.forward(screen_y / 2)\n",
    "    t.setheading(180)           # t.right(90) would also work.\n",
    "    \n",
    "    # Draw the border\n",
    "    t.color('red')\n",
    "    t.down()\n",
    "    t.pensize(10)\n",
    "    for distance in (screen_x, screen_y, screen_x, screen_y):\n",
    "        t.forward(distance)\n",
    "        t.right(90)\n",
    "\n",
    "    # Raise the pen and move the turtle home again; it's a good idea\n",
    "    # to leave the turtle in a known state.\n",
    "    t.up()\n",
    "    t.home()\n",
    "\n",
    "def square(t, size, color):\n",
    "    \"\"\"(Turtle, int, str)\n",
    "\n",
    "    Draw a square of the chosen colour and size.\n",
    "    \"\"\"\n",
    "    t.color(color)\n",
    "    t.down()\n",
    "    for i in range(4):\n",
    "        t.forward(size)\n",
    "        t.right(90)\n",
    "\n",
    "def main():\n",
    "    # Create screen and turtle.\n",
    "    t = d_turtle.Turtle()\n",
    "\n",
    "    # Uncomment to draw the graphics as quickly as possible.\n",
    "    ##t.speed(0)\n",
    "\n",
    "    # Draw a border around the canvas\n",
    "    border(t, 400, 400)\n",
    "\n",
    "    # Draw a set of nested squares, varying the color.\n",
    "    # The squares are 10%, 20%, etc. of half the size of the canvas.\n",
    "    colors = ['red', 'orange', 'yellow', 'green', 'blue', 'violet']\n",
    "    t.pensize(3)\n",
    "    for i, color in enumerate(colors):\n",
    "        square(t, (200 / 2) / 10 * (i+1), color)\n",
    "\n",
    "main()\n",
    "d_turtle.reset()"
   ]
  },
  {
   "cell_type": "markdown",
   "metadata": {},
   "source": [
    "_____________"
   ]
  },
  {
   "cell_type": "markdown",
   "metadata": {},
   "source": [
    "# nautilus.py\n",
    "\n",
    "https://github.com/jxxcarlson/PyExamples/blob/master/nautilus.py"
   ]
  },
  {
   "cell_type": "code",
   "execution_count": null,
   "metadata": {},
   "outputs": [],
   "source": [
    "def square(T, S):\n",
    "  \"\"\"With turtle T,draw a square of size S.\"\"\"\n",
    "  for k in range(0,4):\n",
    "    T.forward(S)\n",
    "    T.left(90)\n",
    "\n",
    "def repeat(T, f, N, A, S, k):\n",
    "  \"\"\"With turtle T, draw a figure of size S using function f N times, \n",
    "  each time rotating the figure with respect to the previous one \n",
    "  by an angle A and rescaling the figure by a factor k\"\"\"\n",
    "  for j in range(0, N):\n",
    "    f(T, S)\n",
    "    T.left(A)\n",
    "    S = k*S\n",
    "\n",
    "from d_turtle import *\n",
    "# from utilities import saveImage\n",
    "fred = Turtle()\n",
    "fred.speed(\"fastest\")     \n",
    "repeat(fred, square, 108, 10, 200, 0.97)\n",
    "# saveImage(fred, \"nautilus.eps\")\n",
    "# exitonclick()"
   ]
  },
  {
   "cell_type": "code",
   "execution_count": null,
   "metadata": {},
   "outputs": [],
   "source": []
  }
 ],
 "metadata": {
  "kernelspec": {
   "display_name": "Python 3",
   "language": "python",
   "name": "python3"
  },
  "language_info": {
   "codemirror_mode": {
    "name": "ipython",
    "version": 3
   },
   "file_extension": ".py",
   "mimetype": "text/x-python",
   "name": "python",
   "nbconvert_exporter": "python",
   "pygments_lexer": "ipython3",
   "version": "3.7.0"
  }
 },
 "nbformat": 4,
 "nbformat_minor": 4
}
