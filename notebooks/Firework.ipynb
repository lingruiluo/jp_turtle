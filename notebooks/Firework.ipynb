{
 "cells": [
  {
   "cell_type": "markdown",
   "metadata": {},
   "source": [
    "# Firework\n",
    "\n",
    "Use simple `forward()` function can make a firwork. "
   ]
  },
  {
   "cell_type": "code",
   "execution_count": 44,
   "metadata": {},
   "outputs": [],
   "source": [
    "import jp_turtle as turtle\n",
    "import random"
   ]
  },
  {
   "cell_type": "code",
   "execution_count": 54,
   "metadata": {},
   "outputs": [
    {
     "data": {
      "application/vnd.jupyter.widget-view+json": {
       "model_id": "cd2044592a8f484ca4d96990baf9ee67",
       "version_major": 2,
       "version_minor": 0
      },
      "text/plain": [
       "VBox(children=(DualCanvasWidget(status='deferring flush until render'), Text(value='deferring flush until rend…"
      ]
     },
     "metadata": {},
     "output_type": "display_data"
    }
   ],
   "source": [
    "# single color\n",
    "t = turtle.Turtle()\n",
    "t.speed(0)\n",
    "t.screen_color('black')\n",
    "color = \"rgb(%d,%d,%d)\" %(random.randint(0,255),random.randint(0,255),random.randint(0,255))\n",
    "for i in range(360):\n",
    "    t.setheading(i)\n",
    "    t.color(color)\n",
    "    t.down()\n",
    "    t.forward(random.randint(10,200))\n",
    "    t.up()\n",
    "    t.home()\n",
    "turtle.reset()"
   ]
  },
  {
   "cell_type": "code",
   "execution_count": 55,
   "metadata": {},
   "outputs": [
    {
     "data": {
      "application/vnd.jupyter.widget-view+json": {
       "model_id": "f11f4e5ee40041cab97a0e3a19f4e60a",
       "version_major": 2,
       "version_minor": 0
      },
      "text/plain": [
       "VBox(children=(DualCanvasWidget(status='deferring flush until render'), Text(value='deferring flush until rend…"
      ]
     },
     "metadata": {},
     "output_type": "display_data"
    }
   ],
   "source": [
    "# three color \n",
    "t = turtle.Turtle()\n",
    "t.speed(0)\n",
    "t.screen_color('black')\n",
    "color = ['red','pink','purple']\n",
    "for i in range(360):\n",
    "    t.setheading(i)\n",
    "    t.color(color[random.randint(0,2)])\n",
    "    t.down()\n",
    "    t.forward(random.randint(10,200))\n",
    "    t.up()\n",
    "    t.home()\n",
    "turtle.reset()"
   ]
  },
  {
   "cell_type": "code",
   "execution_count": 49,
   "metadata": {},
   "outputs": [
    {
     "data": {
      "application/vnd.jupyter.widget-view+json": {
       "model_id": "42e47c9758b742889e6e71b7aaa035a4",
       "version_major": 2,
       "version_minor": 0
      },
      "text/plain": [
       "VBox(children=(DualCanvasWidget(status='deferring flush until render'), Text(value='deferring flush until rend…"
      ]
     },
     "metadata": {},
     "output_type": "display_data"
    }
   ],
   "source": [
    "# random colors \n",
    "t = turtle.Turtle()\n",
    "t.speed(0)\n",
    "t.screen_color('black')\n",
    "for i in range(360):\n",
    "    t.setheading(i)\n",
    "    t.color(\"rgb(%d,%d,%d)\" %(random.randint(0,255),random.randint(0,255),random.randint(0,255)))\n",
    "    t.down()\n",
    "    t.forward(random.randint(10,200))\n",
    "    t.up()\n",
    "    t.home()\n",
    "turtle.reset()"
   ]
  },
  {
   "cell_type": "code",
   "execution_count": 56,
   "metadata": {},
   "outputs": [
    {
     "data": {
      "application/vnd.jupyter.widget-view+json": {
       "model_id": "66fbaf5decd24abab0917d06eb030fcd",
       "version_major": 2,
       "version_minor": 0
      },
      "text/plain": [
       "VBox(children=(DualCanvasWidget(status='deferring flush until render'), Text(value='deferring flush until rend…"
      ]
     },
     "metadata": {},
     "output_type": "display_data"
    }
   ],
   "source": [
    "# with dot\n",
    "t = turtle.Turtle()\n",
    "t.speed(0)\n",
    "t.screen_color('black')\n",
    "t.hideturtle()\n",
    "for i in range(360):\n",
    "    t.setheading(i)\n",
    "    t.color(\"rgb(%d,%d,%d)\" %(random.randint(0,255),random.randint(0,255),random.randint(0,255)))\n",
    "    t.down()\n",
    "    t.forward(random.randint(10,200))\n",
    "    if random.randint(0,1):\n",
    "        t.dot(random.randint(0,5))\n",
    "    t.up()\n",
    "    t.home()\n",
    "turtle.reset()"
   ]
  },
  {
   "cell_type": "code",
   "execution_count": 67,
   "metadata": {},
   "outputs": [
    {
     "data": {
      "application/vnd.jupyter.widget-view+json": {
       "model_id": "a771d4c249514366a248b3f8a80dc48c",
       "version_major": 2,
       "version_minor": 0
      },
      "text/plain": [
       "VBox(children=(DualCanvasWidget(status='deferring flush until render'), Text(value='deferring flush until rend…"
      ]
     },
     "metadata": {},
     "output_type": "display_data"
    }
   ],
   "source": [
    "# with stamp\n",
    "t = turtle.Turtle()\n",
    "t.speed(0)\n",
    "t.screen_color('black')\n",
    "t.shape('classic')\n",
    "shapes = ['turtle','circle','triangle','classic']\n",
    "for i in range(360):\n",
    "    t.setheading(i)\n",
    "    t.color(\"rgb(%d,%d,%d)\" %(random.randint(0,255),random.randint(0,255),random.randint(0,255)))\n",
    "    t.down()\n",
    "    t.pensize(1)\n",
    "    t.forward(random.randint(10,200))\n",
    "    if i%8==0:\n",
    "        t.pensize(0.5)\n",
    "        t.shape(shapes[random.randint(0,3)])\n",
    "        t.stamp()\n",
    "    t.up()\n",
    "    t.home()\n",
    "turtle.reset()"
   ]
  }
 ],
 "metadata": {
  "kernelspec": {
   "display_name": "Python 3",
   "language": "python",
   "name": "python3"
  },
  "language_info": {
   "codemirror_mode": {
    "name": "ipython",
    "version": 3
   },
   "file_extension": ".py",
   "mimetype": "text/x-python",
   "name": "python",
   "nbconvert_exporter": "python",
   "pygments_lexer": "ipython3",
   "version": "3.7.0"
  }
 },
 "nbformat": 4,
 "nbformat_minor": 4
}
