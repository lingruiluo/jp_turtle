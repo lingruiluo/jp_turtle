{
 "cells": [
  {
   "cell_type": "markdown",
   "metadata": {},
   "source": [
    "# No Signal TV Pattern"
   ]
  },
  {
   "cell_type": "code",
   "execution_count": 1,
   "metadata": {},
   "outputs": [],
   "source": [
    "import jp_turtle as turtle"
   ]
  },
  {
   "cell_type": "code",
   "execution_count": 99,
   "metadata": {},
   "outputs": [],
   "source": [
    "def square(t,side):\n",
    "    for i in range(4):\n",
    "        t.forward(side)\n",
    "        t.right(90)\n",
    "    \n",
    "def four_square(t,side):\n",
    "    for i in range(2):\n",
    "        t.right(90)\n",
    "        square(t,side)\n",
    "        t.right(90)\n",
    "        t.fillcolor('#808080')\n",
    "        t.begin_fill()\n",
    "        square(t,side)\n",
    "        t.end_fill()\n",
    "            \n",
    "def repeat(t,steps,side):\n",
    "    for i in range(steps):\n",
    "        four_square(t,side)\n",
    "        if i<steps-1:\n",
    "            t.forward(side*2)\n",
    "\n",
    "def gird_background(t, screen_x, screen_y,side=50):\n",
    "    t.color('white')\n",
    "    t.pensize(2)\n",
    "    x, y = side-screen_x/2, screen_y/2-side\n",
    "    for i in range(int(screen_x/(side*2))):\n",
    "        t.up()\n",
    "        t.goto(x,y)\n",
    "        t.setheading(0)\n",
    "        t.down()\n",
    "        repeat(t, int(screen_x/2/side), side)\n",
    "        y -= side*2\n",
    "        \n",
    "def sig(t, start_pt, length, colors):\n",
    "    t.up()\n",
    "    t.goto(start_pt)\n",
    "    t.setheading(0)\n",
    "    t.down()\n",
    "    for i in range(7):\n",
    "        t.fillcolor(colors[i])\n",
    "        t.begin_fill()\n",
    "        for j in range(4):\n",
    "            t.forward(length[j%2])\n",
    "            t.right(90)\n",
    "        t.end_fill()\n",
    "        t.forward(length[0])\n",
    "\n",
    "def sig_squares(t, screen_x, screen_y, side):\n",
    "    up_len = [(screen_x-side*2)/7, screen_y/2]\n",
    "    mid_len = [(screen_x-side*2)/7, min(25,side)]\n",
    "    low_len = [(screen_x-side*2)/7, min(45, side*2-5)]\n",
    "    \n",
    "    up_start = (side-screen_x/2,screen_y/2-50)\n",
    "    mid_start = (side-screen_x/2, up_start[1]-up_len[1])\n",
    "    low_start = (side-screen_x/2, mid_start[1]-mid_len[1])\n",
    "    \n",
    "    up_colors = ['#C0C0C0', 'yellow', 'cyan', 'lime', '#FF00FF', 'red', 'blue']\n",
    "    mid_colors = ['blue', 'black', '#FF00FF', 'black', 'cyan', 'black', '#C0C0C0']\n",
    "    low_colors = ['black', 'black', 'blue', 'blue', 'yellow', 'yellow', 'red']\n",
    "    \n",
    "    sig(t, up_start, up_len, up_colors)\n",
    "    sig(t, mid_start, mid_len, mid_colors)\n",
    "    sig(t, low_start, low_len, low_colors)\n",
    "    \n",
    "def no_signal_pattern(t, screen_x, screen_y, side):\n",
    "    gird_background(t, screen_x, screen_y, side)\n",
    "    sig_squares(t, screen_x, screen_y, side)"
   ]
  },
  {
   "cell_type": "code",
   "execution_count": 101,
   "metadata": {},
   "outputs": [
    {
     "data": {
      "application/vnd.jupyter.widget-view+json": {
       "model_id": "2884c2f3c73b459ab15296b8b15d1247",
       "version_major": 2,
       "version_minor": 0
      },
      "text/plain": [
       "VBox(children=(DualCanvasWidget(status='deferring flush until render'), Text(value='deferring flush until rend…"
      ]
     },
     "metadata": {},
     "output_type": "display_data"
    }
   ],
   "source": [
    "t = turtle.Turtle()\n",
    "t.hideturtle()\n",
    "t.screen_color('white')\n",
    "t.speed(0)\n",
    "no_signal_pattern(t, 400, 400, 25)\n",
    "turtle.reset()"
   ]
  }
 ],
 "metadata": {
  "kernelspec": {
   "display_name": "Python 3",
   "language": "python",
   "name": "python3"
  },
  "language_info": {
   "codemirror_mode": {
    "name": "ipython",
    "version": 3
   },
   "file_extension": ".py",
   "mimetype": "text/x-python",
   "name": "python",
   "nbconvert_exporter": "python",
   "pygments_lexer": "ipython3",
   "version": "3.7.0"
  }
 },
 "nbformat": 4,
 "nbformat_minor": 4
}
