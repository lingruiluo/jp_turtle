{
 "cells": [
  {
   "cell_type": "markdown",
   "metadata": {},
   "source": [
    "# Clock\n",
    "\n",
    "The example shows the current time on the screen. "
   ]
  },
  {
   "cell_type": "code",
   "execution_count": 1,
   "metadata": {},
   "outputs": [],
   "source": [
    "import jp_turtle as turtle"
   ]
  },
  {
   "cell_type": "code",
   "execution_count": 4,
   "metadata": {},
   "outputs": [],
   "source": [
    "def clock_circle(t, r):\n",
    "    import math\n",
    "    steps = 60\n",
    "    degree = 6\n",
    "    l = 2.0 * math.pi * r / 60\n",
    "    t.up()\n",
    "    t.goto(0,r)\n",
    "    t.setheading(0)\n",
    "    t.right(degree/2)\n",
    "    for i in range(steps):\n",
    "        t.dot(1)\n",
    "        t.forward(l)\n",
    "        t.right(degree)\n",
    "    t.right(-degree/2)\n",
    "\n",
    "def clock_min(t,r):\n",
    "    t.pensize(2)\n",
    "    for i in range(12):\n",
    "        t.up()\n",
    "        t.home()\n",
    "        t.setheading(i*30)\n",
    "        t.forward(r)\n",
    "        t.down()\n",
    "        t.forward(15)\n",
    "        \n",
    "def needle(t,r):\n",
    "    from datetime import datetime\n",
    "    from pytz import timezone\n",
    "    eastern = timezone('US/Eastern')\n",
    "    current_time = datetime.now(eastern)\n",
    "    hr, minute, sec = current_time.hour%12, current_time.minute, current_time.second\n",
    "    degrees = [90-hr*30, 90-minute*6, 90-sec*6]\n",
    "    lengths = [r/2, r/1.5, r/1.2]\n",
    "    colors = ['#900C3F','#FC9D9D','#FFCAC2']\n",
    "    for i in range(3):\n",
    "        t.up()\n",
    "        t.home()\n",
    "        t.down()\n",
    "        t.color(colors[i])\n",
    "        t.setheading(degrees[i])\n",
    "        t.forward(lengths[i])\n",
    "        t.stamp()\n",
    "\n",
    "def clock(t, r):\n",
    "    clock_circle(t, r)\n",
    "    clock_min(t,r)\n",
    "    needle(t,r)\n",
    "    \n",
    "def show_clock():\n",
    "    r = 200\n",
    "    t = turtle.Turtle()\n",
    "    t.screen_color('black')\n",
    "    t.color('white')\n",
    "    t.speed(0)\n",
    "    t.hideturtle()\n",
    "    clock(t, r)\n",
    "    turtle.reset()"
   ]
  },
  {
   "cell_type": "code",
   "execution_count": 5,
   "metadata": {},
   "outputs": [
    {
     "data": {
      "application/vnd.jupyter.widget-view+json": {
       "model_id": "c233e8dbc2874b9d8caf5dcc9f0622d3",
       "version_major": 2,
       "version_minor": 0
      },
      "text/plain": [
       "VBox(children=(DualCanvasWidget(status='deferring flush until render'), Text(value='deferring flush until rend…"
      ]
     },
     "metadata": {},
     "output_type": "display_data"
    }
   ],
   "source": [
    "show_clock()"
   ]
  }
 ],
 "metadata": {
  "kernelspec": {
   "display_name": "Python 3",
   "language": "python",
   "name": "python3"
  },
  "language_info": {
   "codemirror_mode": {
    "name": "ipython",
    "version": 3
   },
   "file_extension": ".py",
   "mimetype": "text/x-python",
   "name": "python",
   "nbconvert_exporter": "python",
   "pygments_lexer": "ipython3",
   "version": "3.7.0"
  }
 },
 "nbformat": 4,
 "nbformat_minor": 4
}
