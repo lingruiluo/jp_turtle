{
 "cells": [
  {
   "cell_type": "code",
   "execution_count": 98,
   "metadata": {},
   "outputs": [
    {
     "data": {
      "application/vnd.jupyter.widget-view+json": {
       "model_id": "ceaddc4dd7d54c66a8937077b072b745",
       "version_major": 2,
       "version_minor": 0
      },
      "text/plain": [
       "VBox(children=(DualCanvasWidget(status='deferring flush until render'), Text(value='deferring flush until rend…"
      ]
     },
     "metadata": {},
     "output_type": "display_data"
    }
   ],
   "source": [
    "def spiral_triangle(t, steps=20):\n",
    "    for i in range(1,steps):\n",
    "        for j in range(1,4):\n",
    "            t.forward(j*1.5+i*3)\n",
    "            t.left(120+j*1.3)\n",
    "        t.left(1)\n",
    "    \n",
    "from jp_turtle import *\n",
    "# from utilities import saveImage\n",
    "t = Turtle()\n",
    "t.shape('turtle')\n",
    "t.screen_color('black')\n",
    "t.color('white')\n",
    "t.speed(0)     \n",
    "spiral_triangle(t,100)\n",
    "reset()"
   ]
  }
 ],
 "metadata": {
  "kernelspec": {
   "display_name": "Python 3",
   "language": "python",
   "name": "python3"
  },
  "language_info": {
   "codemirror_mode": {
    "name": "ipython",
    "version": 3
   },
   "file_extension": ".py",
   "mimetype": "text/x-python",
   "name": "python",
   "nbconvert_exporter": "python",
   "pygments_lexer": "ipython3",
   "version": "3.7.0"
  }
 },
 "nbformat": 4,
 "nbformat_minor": 4
}
