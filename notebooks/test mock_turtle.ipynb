{
 "cells": [
  {
   "cell_type": "code",
   "execution_count": null,
   "metadata": {},
   "outputs": [],
   "source": []
  },
  {
   "cell_type": "code",
   "execution_count": null,
   "metadata": {},
   "outputs": [],
   "source": [
    "from jp_turtle.mock_turtle import mock_turtle\n",
    "mock_turtle()"
   ]
  },
  {
   "cell_type": "code",
   "execution_count": null,
   "metadata": {},
   "outputs": [],
   "source": [
    "import turtle\n",
    "turtle.Turtle, turtle.RawTurtle, turtle.Pen, turtle.tracer, turtle.colormode"
   ]
  },
  {
   "cell_type": "code",
   "execution_count": null,
   "metadata": {},
   "outputs": [],
   "source": [
    "# now try to run fractal curves example\n",
    "from turtledemo import fractalcurves"
   ]
  },
  {
   "cell_type": "code",
   "execution_count": null,
   "metadata": {},
   "outputs": [],
   "source": [
    "tess = fractalcurves.CurvesTurtle()\n",
    "#tess.screen.verbose = True\n",
    "#tess.forward(100)\n"
   ]
  },
  {
   "cell_type": "code",
   "execution_count": null,
   "metadata": {},
   "outputs": [],
   "source": [
    "#fractalcurves.main()\n",
    "tess.screen.auto_flush = False\n",
    "tess.screen.element.allow_auto_redraw(False)\n",
    "try:\n",
    "    fractalcurves.main()\n",
    "finally:\n",
    "    tess.screen.flush()\n",
    "    tess.screen.auto_flush = True\n",
    "    tess.screen.element.allow_auto_redraw(True)\n",
    "    tess.screen.fit()"
   ]
  },
  {
   "cell_type": "code",
   "execution_count": null,
   "metadata": {},
   "outputs": [],
   "source": [
    "tess.screen.fit()"
   ]
  },
  {
   "cell_type": "code",
   "execution_count": null,
   "metadata": {},
   "outputs": [],
   "source": [
    "import jp_turtle\n",
    "from jp_turtle import screen\n",
    "jp_turtle.reset()\n",
    "fscreen = screen.get_usual_screen()\n",
    "#fscreen.verbose = True"
   ]
  },
  {
   "cell_type": "code",
   "execution_count": null,
   "metadata": {},
   "outputs": [],
   "source": [
    "from turtledemo import forest\n",
    "#jp_turtle.verbose = True\n",
    "#forest.main()\n",
    "#fscreen.fit()\n",
    "\n",
    "fscreen.auto_flush = False\n",
    "fscreen.element.allow_auto_redraw(False)\n",
    "try:\n",
    "    forest.main()\n",
    "finally:\n",
    "    fscreen.flush()\n",
    "    fscreen.auto_flush = True\n",
    "    fscreen.element.allow_auto_redraw(True)\n",
    "    fscreen.fit()"
   ]
  },
  {
   "cell_type": "code",
   "execution_count": null,
   "metadata": {},
   "outputs": [],
   "source": [
    "#fscreen.js_debug()\n",
    "fscreen.fit()"
   ]
  },
  {
   "cell_type": "code",
   "execution_count": null,
   "metadata": {},
   "outputs": [],
   "source": [
    "sys.modules[\"turtle\"]"
   ]
  },
  {
   "cell_type": "code",
   "execution_count": null,
   "metadata": {},
   "outputs": [],
   "source": []
  }
 ],
 "metadata": {
  "kernelspec": {
   "display_name": "Python 3",
   "language": "python",
   "name": "python3"
  },
  "language_info": {
   "codemirror_mode": {
    "name": "ipython",
    "version": 3
   },
   "file_extension": ".py",
   "mimetype": "text/x-python",
   "name": "python",
   "nbconvert_exporter": "python",
   "pygments_lexer": "ipython3",
   "version": "3.6.8"
  }
 },
 "nbformat": 4,
 "nbformat_minor": 4
}
