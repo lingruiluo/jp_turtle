{
 "cells": [
  {
   "cell_type": "code",
   "execution_count": 1,
   "metadata": {},
   "outputs": [
    {
     "name": "stdout",
     "output_type": "stream",
     "text": [
      "Now replacing standard turtle.py functionality with jp_turtle functionality or stubs.\n",
      "Stubbing out tracer\n",
      "Stubbing out colormode\n"
     ]
    }
   ],
   "source": [
    "from jp_turtle.mock_turtle import mock_turtle\n",
    "mock_turtle()"
   ]
  },
  {
   "cell_type": "code",
   "execution_count": 2,
   "metadata": {},
   "outputs": [
    {
     "data": {
      "text/plain": [
       "(jp_turtle.jp_turtle.Turtle,\n",
       " turtle.RawTurtle,\n",
       " jp_turtle.jp_turtle.Turtle,\n",
       " <function jp_turtle.mock_turtle.undefined_mock_operation.<locals>.stub(*args, **kwargs)>,\n",
       " <function jp_turtle.mock_turtle.undefined_mock_operation.<locals>.stub(*args, **kwargs)>)"
      ]
     },
     "execution_count": 2,
     "metadata": {},
     "output_type": "execute_result"
    }
   ],
   "source": [
    "import turtle\n",
    "turtle.Turtle, turtle.RawTurtle, turtle.Pen, turtle.tracer, turtle.colormode"
   ]
  },
  {
   "cell_type": "code",
   "execution_count": 3,
   "metadata": {},
   "outputs": [],
   "source": [
    "# now try to run fractal curves example\n",
    "from turtledemo import fractalcurves"
   ]
  },
  {
   "cell_type": "code",
   "execution_count": 4,
   "metadata": {},
   "outputs": [
    {
     "data": {
      "application/vnd.jupyter.widget-view+json": {
       "model_id": "cb1a39d371f14ec0a02a300df2270ab3",
       "version_major": 2,
       "version_minor": 0
      },
      "text/plain": [
       "VBox(children=(DualCanvasWidget(status='deferring flush until render'), Text(value='deferring flush until rend…"
      ]
     },
     "metadata": {},
     "output_type": "display_data"
    }
   ],
   "source": [
    "tess = fractalcurves.CurvesTurtle()\n",
    "#tess.screen.verbose = True\n",
    "#tess.forward(100)\n"
   ]
  },
  {
   "cell_type": "code",
   "execution_count": 5,
   "metadata": {},
   "outputs": [
    {
     "name": "stdout",
     "output_type": "stream",
     "text": [
      "FakeScreen getattr\n",
      "fill color not yet implemented\n",
      "begin fill not yet implemented\n",
      "begin fill not yet implemented\n",
      "FLUSH AND SYNC 9580\n",
      "FakeScreen getattr\n",
      "fill color not yet supported\n",
      "begin fill not yet implemented\n",
      "begin fill not yet implemented\n",
      "begin fill not yet implemented\n",
      "begin fill not yet implemented\n"
     ]
    }
   ],
   "source": [
    "#fractalcurves.main()\n",
    "tess.screen.auto_flush = False\n",
    "tess.screen.element.allow_auto_redraw(False)\n",
    "try:\n",
    "    fractalcurves.main()\n",
    "finally:\n",
    "    tess.screen.flush()\n",
    "    tess.screen.auto_flush = True\n",
    "    tess.screen.element.allow_auto_redraw(True)\n",
    "    tess.screen.fit()"
   ]
  },
  {
   "cell_type": "code",
   "execution_count": null,
   "metadata": {},
   "outputs": [],
   "source": [
    "tess.screen.fit()"
   ]
  },
  {
   "cell_type": "code",
   "execution_count": null,
   "metadata": {},
   "outputs": [],
   "source": [
    "import jp_turtle\n",
    "from jp_turtle import screen\n",
    "jp_turtle.reset()\n",
    "fscreen = screen.get_usual_screen()\n",
    "#fscreen.verbose = True"
   ]
  },
  {
   "cell_type": "code",
   "execution_count": null,
   "metadata": {},
   "outputs": [],
   "source": [
    "from turtledemo import forest\n",
    "#jp_turtle.verbose = True\n",
    "#forest.main()\n",
    "#fscreen.fit()\n",
    "\n",
    "fscreen.auto_flush = False\n",
    "fscreen.element.allow_auto_redraw(False)\n",
    "try:\n",
    "    forest.main()\n",
    "finally:\n",
    "    fscreen.flush()\n",
    "    fscreen.auto_flush = True\n",
    "    fscreen.element.allow_auto_redraw(True)\n",
    "    fscreen.fit()"
   ]
  },
  {
   "cell_type": "code",
   "execution_count": null,
   "metadata": {},
   "outputs": [],
   "source": [
    "#fscreen.js_debug()\n",
    "fscreen.fit()"
   ]
  },
  {
   "cell_type": "code",
   "execution_count": null,
   "metadata": {},
   "outputs": [],
   "source": [
    "import sys\n",
    "sys.modules[\"turtle\"]"
   ]
  },
  {
   "cell_type": "code",
   "execution_count": null,
   "metadata": {},
   "outputs": [],
   "source": []
  }
 ],
 "metadata": {
  "kernelspec": {
   "display_name": "Python 3",
   "language": "python",
   "name": "python3"
  },
  "language_info": {
   "codemirror_mode": {
    "name": "ipython",
    "version": 3
   },
   "file_extension": ".py",
   "mimetype": "text/x-python",
   "name": "python",
   "nbconvert_exporter": "python",
   "pygments_lexer": "ipython3",
   "version": "3.7.0"
  }
 },
 "nbformat": 4,
 "nbformat_minor": 4
}
