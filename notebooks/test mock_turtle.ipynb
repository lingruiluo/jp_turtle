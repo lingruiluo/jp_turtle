{
 "cells": [
  {
   "cell_type": "code",
   "execution_count": null,
   "metadata": {},
   "outputs": [],
   "source": []
  },
  {
   "cell_type": "code",
   "execution_count": 1,
   "metadata": {},
   "outputs": [],
   "source": [
    "from jp_turtle.mock_turtle import mock_turtle\n",
    "mock_turtle()"
   ]
  },
  {
   "cell_type": "code",
   "execution_count": 2,
   "metadata": {},
   "outputs": [
    {
     "data": {
      "text/plain": [
       "(jp_turtle.jp_turtle.Turtle, turtle.RawTurtle, jp_turtle.jp_turtle.Turtle)"
      ]
     },
     "execution_count": 2,
     "metadata": {},
     "output_type": "execute_result"
    }
   ],
   "source": [
    "import turtle\n",
    "turtle.Turtle, turtle.RawTurtle, turtle.Pen"
   ]
  },
  {
   "cell_type": "code",
   "execution_count": 3,
   "metadata": {},
   "outputs": [],
   "source": [
    "# now try to run fractal curves example\n",
    "from turtledemo import fractalcurves"
   ]
  },
  {
   "cell_type": "code",
   "execution_count": 4,
   "metadata": {},
   "outputs": [
    {
     "data": {
      "application/vnd.jupyter.widget-view+json": {
       "model_id": "433674f4bed441448085c0294d8452e0",
       "version_major": 2,
       "version_minor": 0
      },
      "text/plain": [
       "VBox(children=(DualCanvasWidget(status='deferring flush until render'), Text(value='deferring flush until rend…"
      ]
     },
     "metadata": {},
     "output_type": "display_data"
    }
   ],
   "source": [
    "tess = fractalcurves.CurvesTurtle()\n",
    "#tess.screen.verbose = True\n",
    "#tess.forward(100)\n"
   ]
  },
  {
   "cell_type": "code",
   "execution_count": 5,
   "metadata": {},
   "outputs": [
    {
     "name": "stdout",
     "output_type": "stream",
     "text": [
      "FakeScreen getattr\n",
      "fill color not yet implemented\n",
      "begin fill not yet implemented\n",
      "begin fill not yet implemented\n",
      "setheading 0\n",
      "FLUSH AND SYNC 9580\n",
      "FakeScreen getattr\n",
      "fill color not yet supported\n",
      "begin fill not yet implemented\n",
      "begin fill not yet implemented\n",
      "begin fill not yet implemented\n",
      "begin fill not yet implemented\n"
     ]
    }
   ],
   "source": [
    "#fractalcurves.main()\n",
    "tess.screen.auto_flush = False\n",
    "tess.screen.element.allow_auto_redraw(False)\n",
    "try:\n",
    "    fractalcurves.main()\n",
    "finally:\n",
    "    tess.screen.flush()\n",
    "    tess.screen.auto_flush = True\n",
    "    tess.screen.element.allow_auto_redraw(True)"
   ]
  },
  {
   "cell_type": "code",
   "execution_count": null,
   "metadata": {},
   "outputs": [],
   "source": [
    "tess.screen.fit()"
   ]
  },
  {
   "cell_type": "code",
   "execution_count": null,
   "metadata": {},
   "outputs": [],
   "source": [
    "tess.screen.js_debug()"
   ]
  },
  {
   "cell_type": "code",
   "execution_count": null,
   "metadata": {},
   "outputs": [],
   "source": [
    "inspect.getmro(fractalcurves.CurvesTurtle)"
   ]
  },
  {
   "cell_type": "code",
   "execution_count": null,
   "metadata": {},
   "outputs": [],
   "source": [
    "import sys\n"
   ]
  },
  {
   "cell_type": "code",
   "execution_count": null,
   "metadata": {},
   "outputs": [],
   "source": [
    "sys.modules[\"turtle\"]"
   ]
  },
  {
   "cell_type": "code",
   "execution_count": null,
   "metadata": {},
   "outputs": [],
   "source": []
  }
 ],
 "metadata": {
  "kernelspec": {
   "display_name": "Python 3",
   "language": "python",
   "name": "python3"
  },
  "language_info": {
   "codemirror_mode": {
    "name": "ipython",
    "version": 3
   },
   "file_extension": ".py",
   "mimetype": "text/x-python",
   "name": "python",
   "nbconvert_exporter": "python",
   "pygments_lexer": "ipython3",
   "version": "3.6.8"
  }
 },
 "nbformat": 4,
 "nbformat_minor": 4
}
