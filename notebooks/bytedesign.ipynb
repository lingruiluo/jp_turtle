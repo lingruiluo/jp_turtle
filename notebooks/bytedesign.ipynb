{
 "cells": [
  {
   "cell_type": "markdown",
   "metadata": {},
   "source": [
    "# bytedesign\n",
    "\n",
    "The example is adapted from the python turtle bytedesign.\n",
    "\n",
    "It takes a while to finish drawing."
   ]
  },
  {
   "cell_type": "code",
   "execution_count": 1,
   "metadata": {},
   "outputs": [],
   "source": [
    "from jp_turtle import bytedesign"
   ]
  },
  {
   "cell_type": "code",
   "execution_count": 2,
   "metadata": {},
   "outputs": [
    {
     "data": {
      "application/vnd.jupyter.widget-view+json": {
       "model_id": "b853b492ac1a49258ce794d0058db3b2",
       "version_major": 2,
       "version_minor": 0
      },
      "text/plain": [
       "VBox(children=(DualCanvasWidget(status='deferring flush until render'), Text(value='deferring flush until rend…"
      ]
     },
     "metadata": {},
     "output_type": "display_data"
    }
   ],
   "source": [
    "designer = bytedesign.Designer()\n",
    "designer.speed(0)"
   ]
  },
  {
   "cell_type": "code",
   "execution_count": 3,
   "metadata": {},
   "outputs": [
    {
     "data": {
      "text/plain": [
       "(None, 0)"
      ]
     },
     "execution_count": 3,
     "metadata": {},
     "output_type": "execute_result"
    }
   ],
   "source": [
    "designer.hideturtle()\n",
    "designer.draw_limit, designer.draw_count"
   ]
  },
  {
   "cell_type": "code",
   "execution_count": 4,
   "metadata": {},
   "outputs": [
    {
     "name": "stdout",
     "output_type": "stream",
     "text": [
      "FakeScreen getattr\n",
      "FLUSH AND SYNC 599\n",
      "FakeScreen getattr\n",
      "FLUSH AND SYNC 798\n",
      "FakeScreen getattr\n",
      "FLUSH AND SYNC 1534\n",
      "FakeScreen getattr\n",
      "FLUSH AND SYNC 1733\n",
      "FakeScreen getattr\n",
      "FLUSH AND SYNC 1932\n",
      "FakeScreen getattr\n",
      "FLUSH AND SYNC 2441\n",
      "FakeScreen getattr\n",
      "FLUSH AND SYNC 2647\n",
      "FakeScreen getattr\n",
      "FLUSH AND SYNC 2867\n",
      "FakeScreen getattr\n",
      "FLUSH AND SYNC 3066\n",
      "FakeScreen getattr\n",
      "FLUSH AND SYNC 3265\n",
      "FakeScreen getattr\n",
      "FLUSH AND SYNC 3464\n",
      "FakeScreen getattr\n",
      "FLUSH AND SYNC 3877\n",
      "FakeScreen getattr\n",
      "FLUSH AND SYNC 3980\n",
      "FakeScreen getattr\n",
      "FLUSH AND SYNC 4200\n",
      "FakeScreen getattr\n",
      "FLUSH AND SYNC 4598\n",
      "FakeScreen getattr\n",
      "FLUSH AND SYNC 4797\n",
      "FakeScreen getattr\n",
      "FLUSH AND SYNC 5004\n",
      "FakeScreen getattr\n",
      "FLUSH AND SYNC 5210\n",
      "FakeScreen getattr\n",
      "FLUSH AND SYNC 5313\n",
      "FakeScreen getattr\n",
      "FLUSH AND SYNC 5533\n",
      "FakeScreen getattr\n",
      "FLUSH AND SYNC 5732\n",
      "FakeScreen getattr\n",
      "FLUSH AND SYNC 5931\n",
      "FakeScreen getattr\n",
      "FLUSH AND SYNC 6130\n",
      "FakeScreen getattr\n",
      "FLUSH AND SYNC 6737\n",
      "FakeScreen getattr\n"
     ]
    }
   ],
   "source": [
    "designer.screen.auto_flush = False\n",
    "designer.screen.element.allow_auto_redraw(False)\n",
    "try:\n",
    "    designer.design(designer.position(), 1)\n",
    "finally:\n",
    "    designer.screen.flush()\n",
    "    designer.screen.auto_flush = True\n",
    "    designer.screen.element.allow_auto_redraw(True)"
   ]
  }
 ],
 "metadata": {
  "kernelspec": {
   "display_name": "Python 3",
   "language": "python",
   "name": "python3"
  },
  "language_info": {
   "codemirror_mode": {
    "name": "ipython",
    "version": 3
   },
   "file_extension": ".py",
   "mimetype": "text/x-python",
   "name": "python",
   "nbconvert_exporter": "python",
   "pygments_lexer": "ipython3",
   "version": "3.7.0"
  }
 },
 "nbformat": 4,
 "nbformat_minor": 4
}
