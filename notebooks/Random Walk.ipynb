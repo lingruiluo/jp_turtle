{
 "cells": [
  {
   "cell_type": "markdown",
   "metadata": {},
   "source": [
    "# Random Walk\n",
    "\n",
    "This example refers to [Brownian Motion example](https://github.com/jxxcarlson/PyExamples/blob/master/rw.py). Instead of simulating Brownian motion, the example is simulating random walk with random movement. Random speed and color are assigned."
   ]
  },
  {
   "cell_type": "code",
   "execution_count": 1,
   "metadata": {},
   "outputs": [],
   "source": [
    "import jp_turtle as turtle"
   ]
  },
  {
   "cell_type": "code",
   "execution_count": 43,
   "metadata": {},
   "outputs": [],
   "source": [
    "class RandomWalk:\n",
    "    \n",
    "    def __init__(self, t, steps=100):\n",
    "        self.t = t\n",
    "        self.steps = steps\n",
    "    \n",
    "    def random_color(self):\n",
    "        import random\n",
    "        return 'rgb(%d,%d,%d)' % (random.randint(0,255),random.randint(0,255),random.randint(0,255))\n",
    "\n",
    "    def random_move(self):\n",
    "        import random\n",
    "        distance = random.uniform(-100,100)\n",
    "        degree = random.uniform(-180,180)\n",
    "        self.t.right(degree)\n",
    "        self.t.forward(distance)\n",
    "    \n",
    "    def random_speed(self):\n",
    "        import random\n",
    "        return random.random()*3\n",
    "    \n",
    "    def random_walk(self):\n",
    "        color = self.random_color()\n",
    "        speed = self.random_speed()\n",
    "        self.t.speed(speed)\n",
    "        self.t.color(color)\n",
    "        self.random_move()\n",
    "    \n",
    "    def main(self):\n",
    "        import random\n",
    "        self.t.speed(0)\n",
    "        self.t.screen_color('white')\n",
    "        self.t.shape('turtle')\n",
    "        for i in range(self.steps):\n",
    "            self.random_walk()\n",
    "    \n",
    "    "
   ]
  },
  {
   "cell_type": "code",
   "execution_count": 45,
   "metadata": {},
   "outputs": [
    {
     "data": {
      "application/vnd.jupyter.widget-view+json": {
       "model_id": "0646a1c63446417c8066f28d2d5ed9f5",
       "version_major": 2,
       "version_minor": 0
      },
      "text/plain": [
       "VBox(children=(DualCanvasWidget(status='deferring flush until render'), Text(value='deferring flush until rend…"
      ]
     },
     "metadata": {},
     "output_type": "display_data"
    }
   ],
   "source": [
    "tess = turtle.Turtle()\n",
    "RandomWalk(tess,50).main()\n",
    "turtle.reset()"
   ]
  }
 ],
 "metadata": {
  "kernelspec": {
   "display_name": "Python 3",
   "language": "python",
   "name": "python3"
  },
  "language_info": {
   "codemirror_mode": {
    "name": "ipython",
    "version": 3
   },
   "file_extension": ".py",
   "mimetype": "text/x-python",
   "name": "python",
   "nbconvert_exporter": "python",
   "pygments_lexer": "ipython3",
   "version": "3.7.0"
  }
 },
 "nbformat": 4,
 "nbformat_minor": 4
}
