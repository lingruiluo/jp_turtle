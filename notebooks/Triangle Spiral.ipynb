{
 "cells": [
  {
   "cell_type": "markdown",
   "metadata": {},
   "source": [
    "# Triangle Spiral\n",
    "\n",
    "There are multiple ways to draw triangle spiral. \n",
    "\n",
    "## Triangle Spiral 1\n",
    "\n",
    "The first example works similarly to Nautilus example but using triangle.\n",
    "The inputs:  \n",
    "- **t**: The turtle object you want it to draw the pattern  \n",
    "- **steps**: The number of triangle you want to draw. The default value is 20. "
   ]
  },
  {
   "cell_type": "code",
   "execution_count": 5,
   "metadata": {},
   "outputs": [
    {
     "data": {
      "application/vnd.jupyter.widget-view+json": {
       "model_id": "7a3204137c944aaa8925e00b538b430d",
       "version_major": 2,
       "version_minor": 0
      },
      "text/plain": [
       "VBox(children=(DualCanvasWidget(status='deferring flush until render'), Text(value='deferring flush until rend…"
      ]
     },
     "metadata": {},
     "output_type": "display_data"
    }
   ],
   "source": [
    "extend = 3\n",
    "def spiral_triangle1(t, steps=20):\n",
    "    for i in range(1,steps):\n",
    "        for j in range(1,4):\n",
    "            t.forward(j*1.5+i*extend)\n",
    "            t.left(120+j*1.3)\n",
    "        t.left(1)\n",
    "    \n",
    "from jp_turtle import *\n",
    "# from utilities import saveImage\n",
    "t = Turtle()\n",
    "t.shape('turtle')\n",
    "t.screen_color('black')\n",
    "t.color('white')\n",
    "t.speed(0)     \n",
    "spiral_triangle1(t,100)\n",
    "reset()"
   ]
  },
  {
   "cell_type": "markdown",
   "metadata": {},
   "source": [
    "## Triangle Spiral 2\n",
    "\n",
    "The second triangle spiral example is different from the first one. It has the smallest triangle in the center, and as the side of triangles increases, the bigger triangle encircles smaller one.  \n",
    "The inputs:  \n",
    "- **t**: The turtle object you want it to draw the pattern  \n",
    "- **side**: The original side length of triangle (the smallest triangle)  \n",
    "- **steps**: The number of triangle(or polygon) you want to draw. The default value is 100\n",
    "- **num_of_side**: The number of side for the polygon. Default is triangle, which is value 3  \n",
    "- **degree_dev**: The degree deviation as the polygon grows  \n",
    "- **side_dev**: The side length deviation as the polygon grows  "
   ]
  },
  {
   "cell_type": "code",
   "execution_count": 19,
   "metadata": {},
   "outputs": [
    {
     "data": {
      "application/vnd.jupyter.widget-view+json": {
       "model_id": "fd81c1677ed449dbad16dec7fb3e1070",
       "version_major": 2,
       "version_minor": 0
      },
      "text/plain": [
       "VBox(children=(DualCanvasWidget(status='deferring flush until render'), Text(value='deferring flush until rend…"
      ]
     },
     "metadata": {},
     "output_type": "display_data"
    }
   ],
   "source": [
    "def spiral_triangle2(t, side = 5, steps = 100, num_of_side=3, degree_dev=2, side_dev=2):\n",
    "    for i in range(1,steps):\n",
    "        degree = 360/num_of_side\n",
    "        t.forward(side)\n",
    "        t.left(degree+degree_dev)\n",
    "        side = side + side_dev\n",
    "    \n",
    "from jp_turtle import *\n",
    "# from utilities import saveImage\n",
    "t = Turtle()\n",
    "t.shape('turtle')\n",
    "t.screen_color('black')\n",
    "t.color('white')\n",
    "t.speed(0)  \n",
    "spiral_triangle2(t, side=8)\n",
    "reset()"
   ]
  }
 ],
 "metadata": {
  "kernelspec": {
   "display_name": "Python 3",
   "language": "python",
   "name": "python3"
  },
  "language_info": {
   "codemirror_mode": {
    "name": "ipython",
    "version": 3
   },
   "file_extension": ".py",
   "mimetype": "text/x-python",
   "name": "python",
   "nbconvert_exporter": "python",
   "pygments_lexer": "ipython3",
   "version": "3.7.0"
  }
 },
 "nbformat": 4,
 "nbformat_minor": 4
}
